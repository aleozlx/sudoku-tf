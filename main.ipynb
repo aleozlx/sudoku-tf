{
 "cells": [
  {
   "cell_type": "code",
   "execution_count": 21,
   "metadata": {},
   "outputs": [],
   "source": [
    "import numpy as np\n",
    "import tensorflow as tf"
   ]
  },
  {
   "cell_type": "code",
   "execution_count": 142,
   "metadata": {},
   "outputs": [],
   "source": [
    "tf.reset_default_graph()\n",
    "\n",
    "x = tf.Variable(np.array([\n",
    "    0, 0, 7, 0, 0, 0, 3, 0, 2,\n",
    "    2, 0, 0, 0, 0, 5, 0, 1, 0,\n",
    "    0, 0, 0, 8, 0, 1, 4, 0, 0,\n",
    "    0, 1, 0, 0, 9, 6, 0, 0, 8,\n",
    "    7, 6, 0, 0, 0, 0, 0, 4, 9,\n",
    "    0, 0, 0, 0, 0, 0 ,0, 0, 0,\n",
    "    0, 0, 0, 1, 0, 3, 0, 0, 0,\n",
    "    8, 0, 1, 0, 6, 0, 0, 0, 0,\n",
    "    0, 0, 0 ,7, 0, 0, 0 ,6, 3\n",
    "]).reshape(9,9))\n",
    "\n",
    "idx = tf.tile(\n",
    "    tf.constant((np.arange(9)+1).reshape(9, 1, 1), tf.int32),\n",
    "(1, 9, 9))\n",
    "\n",
    "idxV = tf.tile(\n",
    "    tf.constant((np.arange(9)+1).reshape(1, 9, 1), tf.int32),\n",
    "(9, 1, 9))\n",
    "\n",
    "dom_zero = tf.equal(x, 0)\n",
    "n = tf.reduce_sum(tf.cast(dom_zero, tf.int32))\n",
    "dom0 = tf.broadcast_to(dom_zero, (9,9,9))\n",
    "domH = tf.stack([\n",
    "    tf.tile(\n",
    "        tf.reshape(\n",
    "            tf.logical_not(tf.reduce_any(tf.equal(x, v), 1)),\n",
    "        (9, 1)),\n",
    "    (1, 9)) for v in range(1,10)\n",
    "])\n",
    "domV = tf.stack([\n",
    "    tf.reshape(\n",
    "        tf.tile(\n",
    "            tf.logical_not(tf.reduce_any(tf.equal(x, v), 0)),\n",
    "        (9,)),\n",
    "    (9,9)) for v in range(1,10)\n",
    "])\n",
    "domB = tf.reshape(tf.transpose(\n",
    "    tf.reshape(tf.tile(\n",
    "        tf.equal(\n",
    "            tf.transpose(tf.nn.max_pool(\n",
    "                tf.reshape(\n",
    "                    tf.stack([\n",
    "                        tf.cast(tf.equal(x, v), tf.int32)\n",
    "                            for v in range(1,10)\n",
    "                    ], axis=2),\n",
    "                (1,9,9,9)),\n",
    "                (1,3,3,1),\n",
    "                (1,3,3,1),\n",
    "                'VALID',\n",
    "            ), (3,1,2,0)),\n",
    "        0), # shape: 9,3,3,1\n",
    "    (1,1,1,9)), (9,3,3,3,3)),\n",
    "(0,1,3,2,4)), (9,9,9))\n",
    "dom = tf.cast(tf.logical_and(\n",
    "    dom0, tf.logical_and(\n",
    "        domB, tf.logical_and(\n",
    "            domH, domV\n",
    "        )\n",
    "    )\n",
    "), tf.int32)\n",
    "ct0 = tf.cast(tf.equal(tf.reduce_sum(dom, 0), 1), tf.int32)\n",
    "assign0 = tf.multiply(tf.reduce_sum(tf.multiply(dom, idx), 0), ct0)\n",
    "ctV = tf.cast(tf.equal(tf.reduce_sum(dom, 1), 1), tf.int32)\n",
    "assignV = tf.multiply(tf.reduce_sum(tf.multiply(dom, idxV), 1), ctV)\n",
    "# ctH = tf.cast(tf.equal(tf.reduce_sum(dom, 2), 1), tf.int32)\n",
    "# assignH = tf.multiply(tf.reduce_sum(lookup, 2), ctH)\n",
    "\n",
    "\n",
    "init = tf.global_variables_initializer()\n"
   ]
  },
  {
   "cell_type": "code",
   "execution_count": 144,
   "metadata": {},
   "outputs": [
    {
     "name": "stdout",
     "output_type": "stream",
     "text": [
      "[[0 0 0 0 4 0 0 0 0]\n",
      " [0 0 0 0 0 0 0 0 0]\n",
      " [0 0 0 0 0 0 0 0 0]\n",
      " [0 0 0 0 0 0 0 0 0]\n",
      " [0 0 0 0 0 0 0 0 0]\n",
      " [0 0 0 0 0 0 0 0 0]\n",
      " [0 0 0 0 0 0 0 0 0]\n",
      " [0 0 0 0 0 0 0 0 0]\n",
      " [0 0 0 0 0 0 0 0 0]]\n",
      "[[1 0 0 0 0 0 0 0 6]\n",
      " [0 0 0 0 0 0 0 0 0]\n",
      " [0 0 0 0 0 0 0 0 0]\n",
      " [0 0 0 0 0 0 0 0 0]\n",
      " [0 0 0 0 0 0 0 0 0]\n",
      " [0 0 0 0 0 0 0 0 0]\n",
      " [0 0 0 0 0 6 0 0 0]\n",
      " [0 0 0 0 0 0 0 0 0]\n",
      " [0 0 0 0 0 0 0 0 0]]\n"
     ]
    }
   ],
   "source": [
    "with tf.Session() as sess:\n",
    "    sess.run(init)\n",
    "    for _ in range(sess.run(n)):\n",
    "        print(sess.run(assign0))\n",
    "        print(sess.run(assignV))\n",
    "        break"
   ]
  },
  {
   "cell_type": "code",
   "execution_count": null,
   "metadata": {},
   "outputs": [],
   "source": []
  }
 ],
 "metadata": {
  "kernelspec": {
   "display_name": "Python 3",
   "language": "python",
   "name": "python3"
  },
  "language_info": {
   "codemirror_mode": {
    "name": "ipython",
    "version": 3
   },
   "file_extension": ".py",
   "mimetype": "text/x-python",
   "name": "python",
   "nbconvert_exporter": "python",
   "pygments_lexer": "ipython3",
   "version": "3.6.7"
  }
 },
 "nbformat": 4,
 "nbformat_minor": 2
}
